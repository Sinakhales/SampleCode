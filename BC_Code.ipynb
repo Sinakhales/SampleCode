{
 "cells": [
  {
   "cell_type": "markdown",
   "id": "29e76b95",
   "metadata": {},
   "source": [
    "# Benefit-cost Analysis\n",
    "\n",
    "Sina Khales\\\n",
    "Last update: 04/13/2022"
   ]
  },
  {
   "cell_type": "markdown",
   "id": "4e09919e",
   "metadata": {},
   "source": [
    "## 1.\tOverview:\n",
    "Transportation professionals need CMFs, countermeasure service life, countermeasure costs, and crash severity costs to conduct an economic appraisal or crash-based benefit cost analysis of potential countermeasures for implementation. The objective of this analysis is to suggest the best set of countermeasures to be implemented for each location, in order to reduce the number of crashes. The best countermeasures are defined as the ones with the highest benefit/cost ratio.\n"
   ]
  },
  {
   "cell_type": "markdown",
   "id": "d0f2f9f1",
   "metadata": {},
   "source": [
    "## 2. Methodology:\n",
    "The procedure of selecting the best countermeasure(s) for each location, comprises the following steps:\n",
    "1. Identifying crash patterns for each location based on the crash data. \n",
    "2. Using the matrix_final to identify the available countermeasures for each location, based on the combination of prevailing condition/collision type, and roadway functional class & intersection type.\n",
    "3.\tCalculating the benefit of each countermeasure based on the CMF and crash cost, by severity level. Calculating the benefit cost (B/C) ratios based on the cost of each countermeasure.\n",
    "4.\tComparing the B/C ratios and suggesting the countermeasures(s) with the highest ratio."
   ]
  },
  {
   "cell_type": "markdown",
   "id": "d2914f7a",
   "metadata": {},
   "source": [
    "#### Required Tables and libraries\n",
    "\n",
    "1. Crash data (I used the 4-year crash data (2018-2021) that I got from Joseph).\n",
    "2. Roadway inventory data ('combined_segment_table' that I got from Joseph).\n",
    "3. A matrix I created based on the data I got from the CMF Clearing website and the FHWA Proven Safety Countermeasures (details are not needed here!). This matrix includes the following columns: \\\n",
    "['Countermeasure\tCondition', 'Intersection Related',\t'Traffic Control Type',\t'Roadway Type',\t'CMF Type',\t'CMF Value']\n"
   ]
  },
  {
   "cell_type": "markdown",
   "id": "9e679172",
   "metadata": {},
   "source": [
    "### 2.1\n",
    "Crash patterns should be identified through an analysis of the crash data for all locations. When conducting a crash analysis, it is useful to create a summary table of the crashes that occurred during the study period. The table can include a summary of the roadway conditions, speeding, lighting conditions, collision type, and number of injuries or fatalities. The summary table can provide insight for identifying crash patterns. Crash patterns include the prevailing conditions (wet road, nighttime, speed related, pedestrian, and bike), and dominant collision types for each location.\\\n",
    "\\\n",
    "•\tPrevailing conditions: We check if a condition is abnormal. Abnormality can be identified by comparing the crash rate with the average numbers in network scale.\\\n",
    "•\tDominant collision types: We select the top three types of collision as dominant. \n"
   ]
  },
  {
   "cell_type": "code",
   "execution_count": 1,
   "id": "926b888b",
   "metadata": {},
   "outputs": [],
   "source": [
    "import os\n",
    "import pandas as pd\n",
    "import numpy as np\n",
    "\n",
    "os.chdir(r\"C:\\Users\\sina\\Documents\\Crash Frequency Prediction\\Data\")"
   ]
  },
  {
   "cell_type": "code",
   "execution_count": 2,
   "id": "c6aad242",
   "metadata": {},
   "outputs": [
    {
     "name": "stderr",
     "output_type": "stream",
     "text": [
      "C:\\Users\\sina\\Anaconda3\\lib\\site-packages\\IPython\\core\\interactiveshell.py:3444: DtypeWarning: Columns (52,53) have mixed types.Specify dtype option on import or set low_memory=False.\n",
      "  exec(code_obj, self.user_global_ns, self.user_ns)\n"
     ]
    }
   ],
   "source": [
    "# Import the crash data\n",
    "\n",
    "crash_data = pd.read_csv(r\"crash_table.csv\")"
   ]
  },
  {
   "cell_type": "markdown",
   "id": "d81556f6",
   "metadata": {},
   "source": [
    "#### Preprocessing steps:\n",
    "1. Select only the columns that we need for the analysis \n",
    "2. Remove the records with missing segment_id "
   ]
  },
  {
   "cell_type": "code",
   "execution_count": 3,
   "id": "55701447",
   "metadata": {},
   "outputs": [
    {
     "name": "stdout",
     "output_type": "stream",
     "text": [
      "(83582, 15)\n",
      "(83089, 15)\n"
     ]
    }
   ],
   "source": [
    "# Select the columns that we need only\n",
    "\n",
    "crash_data = crash_data[['crash_id', 'ccn', 'severity', 'collision_type', 'roadway_functional_classification', \n",
    "                        'traffic_control_type', 'num_speed', 'num_ped_involved', 'num_bike_involved', \n",
    "                        'num_escooter_involved', 'is_wet', 'is_dark', 'intersection_id', 'distance_to_intersection_center',\n",
    "                        'segment_id']]\n",
    "\n",
    "# Check\n",
    "print(crash_data.shape)\n",
    "\n",
    "# We might need to exclude the records with missing segment_ids \n",
    "crash_data.dropna(subset = ['segment_id'], inplace= True)\n",
    "\n",
    "# Check\n",
    "print(crash_data.shape)"
   ]
  },
  {
   "cell_type": "markdown",
   "id": "4359c610",
   "metadata": {},
   "source": [
    "Crash conditions are:\n",
    "1) Nighttime\\\n",
    "2) Speeding\\\n",
    "3) Wet surface\\\n",
    "4) Pedestrian\\\n",
    "5) Bike"
   ]
  },
  {
   "cell_type": "markdown",
   "id": "7ce9e263",
   "metadata": {},
   "source": [
    "##### Note: None of the crash conditions has missing values "
   ]
  },
  {
   "cell_type": "markdown",
   "id": "c0446c2f",
   "metadata": {},
   "source": [
    "#### Preprocessing steps:\n",
    "1. Change the data type for those columns, which represent crash conditions."
   ]
  },
  {
   "cell_type": "code",
   "execution_count": 4,
   "id": "52dbde3c",
   "metadata": {},
   "outputs": [],
   "source": [
    "crash_data[['is_dark','is_wet']] = crash_data[['is_dark','is_wet']].astype('category')"
   ]
  },
  {
   "cell_type": "code",
   "execution_count": 5,
   "id": "e221f12e",
   "metadata": {},
   "outputs": [],
   "source": [
    "crash_data['is_dark'] = crash_data['is_dark'].cat.codes\n",
    "crash_data['is_wet'] = crash_data['is_wet'].cat.codes"
   ]
  },
  {
   "cell_type": "markdown",
   "id": "b22805f4",
   "metadata": {},
   "source": [
    "#### 2.1.1 Prevailing conditions"
   ]
  },
  {
   "cell_type": "code",
   "execution_count": 6,
   "id": "71568ee7",
   "metadata": {},
   "outputs": [],
   "source": [
    "# Find the averages\n",
    "\n",
    "nighttime_avg = crash_data.is_dark.mean()\n",
    "wet_avg = crash_data.is_wet.mean()\n",
    "speed_avg = crash_data.num_speed.mean()\n",
    "ped_avg = crash_data.num_ped_involved.mean()\n",
    "bike_avg = crash_data.num_bike_involved.mean()\n",
    "\n",
    "avg = pd.Series([nighttime_avg, wet_avg, speed_avg, ped_avg, bike_avg], index= ['nighttime_avg', 'wet_avg','speed_avg', 'ped_avg', 'bike_avg'])"
   ]
  },
  {
   "cell_type": "code",
   "execution_count": 7,
   "id": "09ed593f",
   "metadata": {},
   "outputs": [],
   "source": [
    "avg = pd.DataFrame(avg).transpose()"
   ]
  },
  {
   "cell_type": "code",
   "execution_count": 8,
   "id": "b179a7ac",
   "metadata": {},
   "outputs": [],
   "source": [
    "# Group the crashes based on the segment_id\n",
    "\n",
    "crash_group = crash_data.groupby('segment_id')\n",
    "\n",
    "# Identify the prevailing conditions for each segment\n",
    "\n",
    "prev_cond = crash_group[['is_dark', 'is_wet', 'num_speed', 'num_ped_involved', 'num_bike_involved']].mean() > avg.values"
   ]
  },
  {
   "cell_type": "code",
   "execution_count": 9,
   "id": "50536f4e",
   "metadata": {},
   "outputs": [
    {
     "data": {
      "text/html": [
       "<div>\n",
       "<style scoped>\n",
       "    .dataframe tbody tr th:only-of-type {\n",
       "        vertical-align: middle;\n",
       "    }\n",
       "\n",
       "    .dataframe tbody tr th {\n",
       "        vertical-align: top;\n",
       "    }\n",
       "\n",
       "    .dataframe thead th {\n",
       "        text-align: right;\n",
       "    }\n",
       "</style>\n",
       "<table border=\"1\" class=\"dataframe\">\n",
       "  <thead>\n",
       "    <tr style=\"text-align: right;\">\n",
       "      <th></th>\n",
       "      <th>is_dark</th>\n",
       "      <th>is_wet</th>\n",
       "      <th>num_speed</th>\n",
       "      <th>num_ped_involved</th>\n",
       "      <th>num_bike_involved</th>\n",
       "    </tr>\n",
       "    <tr>\n",
       "      <th>segment_id</th>\n",
       "      <th></th>\n",
       "      <th></th>\n",
       "      <th></th>\n",
       "      <th></th>\n",
       "      <th></th>\n",
       "    </tr>\n",
       "  </thead>\n",
       "  <tbody>\n",
       "    <tr>\n",
       "      <th>1.0</th>\n",
       "      <td>True</td>\n",
       "      <td>True</td>\n",
       "      <td>False</td>\n",
       "      <td>False</td>\n",
       "      <td>False</td>\n",
       "    </tr>\n",
       "    <tr>\n",
       "      <th>2.0</th>\n",
       "      <td>False</td>\n",
       "      <td>False</td>\n",
       "      <td>True</td>\n",
       "      <td>True</td>\n",
       "      <td>True</td>\n",
       "    </tr>\n",
       "    <tr>\n",
       "      <th>3.0</th>\n",
       "      <td>False</td>\n",
       "      <td>True</td>\n",
       "      <td>False</td>\n",
       "      <td>True</td>\n",
       "      <td>False</td>\n",
       "    </tr>\n",
       "    <tr>\n",
       "      <th>4.0</th>\n",
       "      <td>False</td>\n",
       "      <td>True</td>\n",
       "      <td>False</td>\n",
       "      <td>False</td>\n",
       "      <td>True</td>\n",
       "    </tr>\n",
       "    <tr>\n",
       "      <th>5.0</th>\n",
       "      <td>False</td>\n",
       "      <td>True</td>\n",
       "      <td>False</td>\n",
       "      <td>False</td>\n",
       "      <td>False</td>\n",
       "    </tr>\n",
       "  </tbody>\n",
       "</table>\n",
       "</div>"
      ],
      "text/plain": [
       "            is_dark  is_wet  num_speed  num_ped_involved  num_bike_involved\n",
       "segment_id                                                                 \n",
       "1.0            True    True      False             False              False\n",
       "2.0           False   False       True              True               True\n",
       "3.0           False    True      False              True              False\n",
       "4.0           False    True      False             False               True\n",
       "5.0           False    True      False             False              False"
      ]
     },
     "metadata": {},
     "output_type": "display_data"
    }
   ],
   "source": [
    "# Check\n",
    "\n",
    "display(prev_cond.head())       "
   ]
  },
  {
   "cell_type": "code",
   "execution_count": 10,
   "id": "3a5785c2",
   "metadata": {},
   "outputs": [],
   "source": [
    "# Create a list of prevailing conditions for each segment\n",
    "\n",
    "pc_list = []\n",
    "\n",
    "for lab, row in prev_cond.iterrows():\n",
    "    pc_list.append({lab: list(row.index[row.values])})"
   ]
  },
  {
   "cell_type": "code",
   "execution_count": 11,
   "id": "614fa443",
   "metadata": {},
   "outputs": [
    {
     "name": "stdout",
     "output_type": "stream",
     "text": [
      "[{1.0: ['is_dark', 'is_wet']}, {2.0: ['num_speed', 'num_ped_involved', 'num_bike_involved']}, {3.0: ['is_wet', 'num_ped_involved']}, {4.0: ['is_wet', 'num_bike_involved']}]\n"
     ]
    }
   ],
   "source": [
    "# Check\n",
    "\n",
    "print(pc_list[:4])"
   ]
  },
  {
   "cell_type": "markdown",
   "id": "74da2f03",
   "metadata": {},
   "source": [
    "#### 2.1.2 Dominant collision types"
   ]
  },
  {
   "cell_type": "markdown",
   "id": "e46ab1eb",
   "metadata": {},
   "source": [
    "Collision types are:\n",
    "1) angle\\\n",
    "2) rear end\\\n",
    "3) left turn\\\n",
    "4) right turn\\\n",
    "5) sideswipe\\\n",
    "6) head on\\\n",
    "7) non-collision\\\n",
    "8) fixed object"
   ]
  },
  {
   "cell_type": "code",
   "execution_count": 13,
   "id": "865c1a86",
   "metadata": {},
   "outputs": [
    {
     "data": {
      "text/plain": [
       "Rear End                    20451\n",
       "Side Swiped                 17579\n",
       "Parked Vehicle              11888\n",
       "Left Turn Hit Veh.           8467\n",
       "Fixed Object                 6657\n",
       "Right Angle                  4570\n",
       "Right Turn Hit Veh.          3196\n",
       "Backing Hit Veh.             2496\n",
       "Straight Hit N.M.            2101\n",
       "Head On                      1181\n",
       "Side Swiped with N.M.        1134\n",
       "Left Turn Hit N.M.           1078\n",
       "Right Turn Hit N.M.           584\n",
       "Non-Collision Accident        466\n",
       "Backing Hit N.M.              221\n",
       "Parked Vehicle with N.M.      195\n",
       "Right Angle with N.M.          19\n",
       "Name: collision_type, dtype: int64"
      ]
     },
     "execution_count": 13,
     "metadata": {},
     "output_type": "execute_result"
    }
   ],
   "source": [
    "# Check\n",
    "\n",
    "crash_data.collision_type.value_counts()"
   ]
  },
  {
   "cell_type": "markdown",
   "id": "f65766b8",
   "metadata": {},
   "source": [
    "#### We have to make the collision types in the crash data consistent with what we have in the matrix"
   ]
  },
  {
   "cell_type": "code",
   "execution_count": 14,
   "id": "996aac46",
   "metadata": {},
   "outputs": [],
   "source": [
    "# 1) replace all N.M crashes with NA\n",
    "crash_data.collision_type.replace(r\".*\\sN\\.M\\.\", np.nan, regex= True, inplace = True)\n"
   ]
  },
  {
   "cell_type": "code",
   "execution_count": 15,
   "id": "274304be",
   "metadata": {},
   "outputs": [],
   "source": [
    "# 2) replace the followings with NA too\n",
    "# parked vehicle?\n",
    "# backing hit veh?\n",
    "\n",
    "crash_data.collision_type.replace(r\"Parked|Backing\", np.nan, regex= True, inplace = True)"
   ]
  },
  {
   "cell_type": "code",
   "execution_count": 16,
   "id": "83478ddb",
   "metadata": {},
   "outputs": [
    {
     "data": {
      "text/plain": [
       "Rear End                  20451\n",
       "Side Swiped               17579\n",
       "Left Turn Hit Veh.         8467\n",
       "Fixed Object               6657\n",
       "Right Angle                4570\n",
       "Right Turn Hit Veh.        3196\n",
       "Head On                    1181\n",
       "Non-Collision Accident      466\n",
       "Name: collision_type, dtype: int64"
      ]
     },
     "execution_count": 16,
     "metadata": {},
     "output_type": "execute_result"
    }
   ],
   "source": [
    "# Check\n",
    "crash_data.collision_type.value_counts()"
   ]
  },
  {
   "cell_type": "code",
   "execution_count": 17,
   "id": "71adc9f7",
   "metadata": {},
   "outputs": [],
   "source": [
    "from collections import Counter"
   ]
  },
  {
   "cell_type": "code",
   "execution_count": 18,
   "id": "67b875aa",
   "metadata": {},
   "outputs": [],
   "source": [
    "# Create a list of dominant collision types for each segment\n",
    "\n",
    "dc_list = []\n",
    "\n",
    "for name, group in crash_group:\n",
    "    h = Counter(group.collision_type)\n",
    "    \n",
    "    # create a list of dictionaries with dominant collision types for each segment\n",
    "    dc_list.append({name: [x[0] for x in h.most_common(3)]})\n",
    "    "
   ]
  },
  {
   "cell_type": "code",
   "execution_count": 19,
   "id": "48b3c25c",
   "metadata": {},
   "outputs": [
    {
     "name": "stdout",
     "output_type": "stream",
     "text": [
      "[{1.0: [nan]}, {2.0: ['Fixed Object', nan, 'Left Turn Hit Veh.']}, {3.0: ['Right Turn Hit Veh.', 'Right Angle', 'Fixed Object']}, {4.0: [nan, 'Side Swiped']}]\n"
     ]
    }
   ],
   "source": [
    "print(dc_list[:4])"
   ]
  },
  {
   "cell_type": "markdown",
   "id": "6c398daf",
   "metadata": {},
   "source": [
    "#### Prevailing conditions + dominant collision types at segment level"
   ]
  },
  {
   "cell_type": "code",
   "execution_count": 20,
   "id": "b80d87c0",
   "metadata": {},
   "outputs": [],
   "source": [
    "a = [list(pc_list[i].values()) + list(dc_list[i].values()) for i in range(len(dc_list))]"
   ]
  },
  {
   "cell_type": "code",
   "execution_count": 21,
   "id": "c96825ec",
   "metadata": {},
   "outputs": [],
   "source": [
    "import itertools\n",
    "\n",
    "cond_all = []\n",
    "\n",
    "for i in range(len(a)):\n",
    "    cond_all.append([*itertools.chain(*a[i])])"
   ]
  },
  {
   "cell_type": "code",
   "execution_count": 22,
   "id": "fd71a4ca",
   "metadata": {},
   "outputs": [],
   "source": [
    "b = [list(i.keys()) for i in dc_list]\n",
    "b = [*itertools.chain(*b)]"
   ]
  },
  {
   "cell_type": "code",
   "execution_count": 23,
   "id": "5b6d77b6",
   "metadata": {},
   "outputs": [],
   "source": [
    "problems_df = pd.DataFrame(cond_all, index= b, columns= [str('problem_{}'.format(i)) for i in range(1, 9)])"
   ]
  },
  {
   "cell_type": "code",
   "execution_count": 24,
   "id": "f43fceab",
   "metadata": {},
   "outputs": [],
   "source": [
    "problems_df.replace(\"num_speed\", \"Speed related\", regex= True, inplace = True)\n",
    "problems_df.replace(\"num_ped_involved\", \"Pedestrian\", regex= True, inplace = True)\n",
    "problems_df.replace(\"num_bike_involved\", \"Bike\", regex= True, inplace = True)\n",
    "problems_df.replace(\"is_dark\", \"Nighttime\", regex= True, inplace = True)\n",
    "problems_df.replace(\"is_wet\", \"Wet road\", regex= True, inplace = True)"
   ]
  },
  {
   "cell_type": "markdown",
   "id": "6d2cd481",
   "metadata": {},
   "source": [
    "#### problem_df contains prevailing consitions and dominant collision types for all roadway segments "
   ]
  },
  {
   "cell_type": "code",
   "execution_count": 25,
   "id": "ca966d9d",
   "metadata": {},
   "outputs": [
    {
     "data": {
      "text/html": [
       "<div>\n",
       "<style scoped>\n",
       "    .dataframe tbody tr th:only-of-type {\n",
       "        vertical-align: middle;\n",
       "    }\n",
       "\n",
       "    .dataframe tbody tr th {\n",
       "        vertical-align: top;\n",
       "    }\n",
       "\n",
       "    .dataframe thead th {\n",
       "        text-align: right;\n",
       "    }\n",
       "</style>\n",
       "<table border=\"1\" class=\"dataframe\">\n",
       "  <thead>\n",
       "    <tr style=\"text-align: right;\">\n",
       "      <th></th>\n",
       "      <th>problem_1</th>\n",
       "      <th>problem_2</th>\n",
       "      <th>problem_3</th>\n",
       "      <th>problem_4</th>\n",
       "      <th>problem_5</th>\n",
       "      <th>problem_6</th>\n",
       "      <th>problem_7</th>\n",
       "      <th>problem_8</th>\n",
       "    </tr>\n",
       "  </thead>\n",
       "  <tbody>\n",
       "    <tr>\n",
       "      <th>1.0</th>\n",
       "      <td>Nighttime</td>\n",
       "      <td>Wet road</td>\n",
       "      <td>NaN</td>\n",
       "      <td>None</td>\n",
       "      <td>None</td>\n",
       "      <td>None</td>\n",
       "      <td>None</td>\n",
       "      <td>None</td>\n",
       "    </tr>\n",
       "    <tr>\n",
       "      <th>2.0</th>\n",
       "      <td>Speed related</td>\n",
       "      <td>Pedestrian</td>\n",
       "      <td>Bike</td>\n",
       "      <td>Fixed Object</td>\n",
       "      <td>NaN</td>\n",
       "      <td>Left Turn Hit Veh.</td>\n",
       "      <td>None</td>\n",
       "      <td>None</td>\n",
       "    </tr>\n",
       "    <tr>\n",
       "      <th>3.0</th>\n",
       "      <td>Wet road</td>\n",
       "      <td>Pedestrian</td>\n",
       "      <td>Right Turn Hit Veh.</td>\n",
       "      <td>Right Angle</td>\n",
       "      <td>Fixed Object</td>\n",
       "      <td>None</td>\n",
       "      <td>None</td>\n",
       "      <td>None</td>\n",
       "    </tr>\n",
       "    <tr>\n",
       "      <th>4.0</th>\n",
       "      <td>Wet road</td>\n",
       "      <td>Bike</td>\n",
       "      <td>NaN</td>\n",
       "      <td>Side Swiped</td>\n",
       "      <td>None</td>\n",
       "      <td>None</td>\n",
       "      <td>None</td>\n",
       "      <td>None</td>\n",
       "    </tr>\n",
       "    <tr>\n",
       "      <th>5.0</th>\n",
       "      <td>Wet road</td>\n",
       "      <td>Side Swiped</td>\n",
       "      <td>Head On</td>\n",
       "      <td>NaN</td>\n",
       "      <td>None</td>\n",
       "      <td>None</td>\n",
       "      <td>None</td>\n",
       "      <td>None</td>\n",
       "    </tr>\n",
       "  </tbody>\n",
       "</table>\n",
       "</div>"
      ],
      "text/plain": [
       "         problem_1    problem_2            problem_3     problem_4  \\\n",
       "1.0      Nighttime     Wet road                  NaN          None   \n",
       "2.0  Speed related   Pedestrian                 Bike  Fixed Object   \n",
       "3.0       Wet road   Pedestrian  Right Turn Hit Veh.   Right Angle   \n",
       "4.0       Wet road         Bike                  NaN   Side Swiped   \n",
       "5.0       Wet road  Side Swiped              Head On           NaN   \n",
       "\n",
       "        problem_5           problem_6 problem_7 problem_8  \n",
       "1.0          None                None      None      None  \n",
       "2.0           NaN  Left Turn Hit Veh.      None      None  \n",
       "3.0  Fixed Object                None      None      None  \n",
       "4.0          None                None      None      None  \n",
       "5.0          None                None      None      None  "
      ]
     },
     "metadata": {},
     "output_type": "display_data"
    },
    {
     "name": "stdout",
     "output_type": "stream",
     "text": [
      "(11510, 8)\n"
     ]
    }
   ],
   "source": [
    "display(problems_df.head())\n",
    "print(problems_df.shape)"
   ]
  },
  {
   "cell_type": "markdown",
   "id": "44cefb5a",
   "metadata": {},
   "source": [
    "#### The number of segments: 11,510"
   ]
  },
  {
   "cell_type": "markdown",
   "id": "3b2fbf33",
   "metadata": {},
   "source": [
    "#### Add the roadway functional class to this table, using the 'combined_segment_table'"
   ]
  },
  {
   "cell_type": "code",
   "execution_count": 26,
   "id": "b91228e3",
   "metadata": {},
   "outputs": [
    {
     "data": {
      "text/html": [
       "<div>\n",
       "<style scoped>\n",
       "    .dataframe tbody tr th:only-of-type {\n",
       "        vertical-align: middle;\n",
       "    }\n",
       "\n",
       "    .dataframe tbody tr th {\n",
       "        vertical-align: top;\n",
       "    }\n",
       "\n",
       "    .dataframe thead th {\n",
       "        text-align: right;\n",
       "    }\n",
       "</style>\n",
       "<table border=\"1\" class=\"dataframe\">\n",
       "  <thead>\n",
       "    <tr style=\"text-align: right;\">\n",
       "      <th></th>\n",
       "      <th>segment_id</th>\n",
       "      <th>traffic_control_type</th>\n",
       "      <th>functional_classification</th>\n",
       "    </tr>\n",
       "  </thead>\n",
       "  <tbody>\n",
       "    <tr>\n",
       "      <th>0</th>\n",
       "      <td>13484</td>\n",
       "      <td>NA;NA;</td>\n",
       "      <td>Local</td>\n",
       "    </tr>\n",
       "    <tr>\n",
       "      <th>1</th>\n",
       "      <td>1499</td>\n",
       "      <td>NA;NA;</td>\n",
       "      <td>Local</td>\n",
       "    </tr>\n",
       "    <tr>\n",
       "      <th>2</th>\n",
       "      <td>1662</td>\n",
       "      <td>All-way stop;Two-way stop;</td>\n",
       "      <td>Local</td>\n",
       "    </tr>\n",
       "    <tr>\n",
       "      <th>3</th>\n",
       "      <td>2183</td>\n",
       "      <td>Two-way stop;All-way stop;</td>\n",
       "      <td>Local</td>\n",
       "    </tr>\n",
       "    <tr>\n",
       "      <th>4</th>\n",
       "      <td>12654</td>\n",
       "      <td>Two-way stop;NA;</td>\n",
       "      <td>Local</td>\n",
       "    </tr>\n",
       "  </tbody>\n",
       "</table>\n",
       "</div>"
      ],
      "text/plain": [
       "   segment_id        traffic_control_type functional_classification\n",
       "0       13484                      NA;NA;                     Local\n",
       "1        1499                      NA;NA;                     Local\n",
       "2        1662  All-way stop;Two-way stop;                     Local\n",
       "3        2183  Two-way stop;All-way stop;                     Local\n",
       "4       12654            Two-way stop;NA;                     Local"
      ]
     },
     "metadata": {},
     "output_type": "display_data"
    }
   ],
   "source": [
    "segment_table = pd.read_csv(r\"combined_segment_table.csv\")\n",
    "segment_table= segment_table[['segment_id', 'traffic_control_type', 'functional_classification']]\n",
    "display(segment_table.head())"
   ]
  },
  {
   "cell_type": "code",
   "execution_count": 27,
   "id": "58e9bfd3",
   "metadata": {},
   "outputs": [
    {
     "data": {
      "text/plain": [
       "Two-way stop;Two-way stop;           2644\n",
       "Signalized;Signalized;               1650\n",
       "NA;NA;                               1469\n",
       "All-way stop;All-way stop;           1205\n",
       "All-way stop;Two-way stop;           1091\n",
       "Two-way stop;All-way stop;           1088\n",
       "Signalized;Two-way stop;              885\n",
       "Two-way stop;NA;                      852\n",
       "Two-way stop;Signalized;              819\n",
       "NA;Two-way stop;                      768\n",
       "Signalized;NA;                        493\n",
       "NA;Signalized;                        455\n",
       "Signalized;All-way stop;              372\n",
       "All-way stop;Signalized;              353\n",
       "NA;All-way stop;                      276\n",
       "All-way stop;NA;                      263\n",
       "NA;Signalized;Signalized;               2\n",
       "Signalized;Signalized;Signalized;       2\n",
       "Name: traffic_control_type, dtype: int64"
      ]
     },
     "execution_count": 27,
     "metadata": {},
     "output_type": "execute_result"
    }
   ],
   "source": [
    "# Check\n",
    "\n",
    "segment_table.traffic_control_type.value_counts()"
   ]
  },
  {
   "cell_type": "markdown",
   "id": "ced54fc6",
   "metadata": {},
   "source": [
    "#### We have to make the traffic control type column consistent with the matrix content"
   ]
  },
  {
   "cell_type": "code",
   "execution_count": 28,
   "id": "b1c34a04",
   "metadata": {},
   "outputs": [],
   "source": [
    "import re\n",
    "\n",
    "for lab, row in segment_table.iterrows():\n",
    "    if re.search('Signalized', row.traffic_control_type) is not None:\n",
    "        segment_table.loc[lab, 'traffic_control_type'] = 'Signalized'\n",
    "        \n",
    "    elif re.search('stop', row.traffic_control_type) is not None:\n",
    "        segment_table.loc[lab, 'traffic_control_type'] = 'Stop-controlled'\n",
    "        \n",
    "    else:\n",
    "        segment_table.loc[lab, 'traffic_control_type'] = np.nan"
   ]
  },
  {
   "cell_type": "code",
   "execution_count": 29,
   "id": "d2bd55b7",
   "metadata": {},
   "outputs": [
    {
     "name": "stdout",
     "output_type": "stream",
     "text": [
      "Stop-controlled    8187\n",
      "Signalized         5031\n",
      "Name: traffic_control_type, dtype: int64 \n",
      "\n",
      "There are 1469 segments with no traffic controls, which is only  10.00% of the segments\n"
     ]
    }
   ],
   "source": [
    "# Check:\n",
    "\n",
    "segment_table.set_index('segment_id', inplace= True)\n",
    "print(segment_table.traffic_control_type.value_counts(), '\\n')\n",
    "print(f\"There are {segment_table.traffic_control_type.isna().sum()} segments with no traffic controls, which is only {segment_table.traffic_control_type.isna().sum()*100/segment_table.shape[0]: .2f}% of the segments\")"
   ]
  },
  {
   "cell_type": "markdown",
   "id": "ca8ce721",
   "metadata": {},
   "source": [
    "#### Join segment_table and problems_df"
   ]
  },
  {
   "cell_type": "code",
   "execution_count": 30,
   "id": "cfa935b9",
   "metadata": {},
   "outputs": [],
   "source": [
    "seg_prob = problems_df.merge(segment_table, left_index= True, right_index= True, how = 'inner')"
   ]
  },
  {
   "cell_type": "markdown",
   "id": "e2887706",
   "metadata": {},
   "source": [
    "#### seg_prob table contains all problem_df inputs + roway functional classification of eash segment"
   ]
  },
  {
   "cell_type": "code",
   "execution_count": 31,
   "id": "8d009299",
   "metadata": {},
   "outputs": [
    {
     "data": {
      "text/html": [
       "<div>\n",
       "<style scoped>\n",
       "    .dataframe tbody tr th:only-of-type {\n",
       "        vertical-align: middle;\n",
       "    }\n",
       "\n",
       "    .dataframe tbody tr th {\n",
       "        vertical-align: top;\n",
       "    }\n",
       "\n",
       "    .dataframe thead th {\n",
       "        text-align: right;\n",
       "    }\n",
       "</style>\n",
       "<table border=\"1\" class=\"dataframe\">\n",
       "  <thead>\n",
       "    <tr style=\"text-align: right;\">\n",
       "      <th></th>\n",
       "      <th>problem_1</th>\n",
       "      <th>problem_2</th>\n",
       "      <th>problem_3</th>\n",
       "      <th>problem_4</th>\n",
       "      <th>problem_5</th>\n",
       "      <th>problem_6</th>\n",
       "      <th>problem_7</th>\n",
       "      <th>problem_8</th>\n",
       "      <th>traffic_control_type</th>\n",
       "      <th>functional_classification</th>\n",
       "    </tr>\n",
       "  </thead>\n",
       "  <tbody>\n",
       "    <tr>\n",
       "      <th>1.0</th>\n",
       "      <td>Nighttime</td>\n",
       "      <td>Wet road</td>\n",
       "      <td>NaN</td>\n",
       "      <td>None</td>\n",
       "      <td>None</td>\n",
       "      <td>None</td>\n",
       "      <td>None</td>\n",
       "      <td>None</td>\n",
       "      <td>NaN</td>\n",
       "      <td>Collector</td>\n",
       "    </tr>\n",
       "    <tr>\n",
       "      <th>2.0</th>\n",
       "      <td>Speed related</td>\n",
       "      <td>Pedestrian</td>\n",
       "      <td>Bike</td>\n",
       "      <td>Fixed Object</td>\n",
       "      <td>NaN</td>\n",
       "      <td>Left Turn Hit Veh.</td>\n",
       "      <td>None</td>\n",
       "      <td>None</td>\n",
       "      <td>Signalized</td>\n",
       "      <td>Collector</td>\n",
       "    </tr>\n",
       "    <tr>\n",
       "      <th>3.0</th>\n",
       "      <td>Wet road</td>\n",
       "      <td>Pedestrian</td>\n",
       "      <td>Right Turn Hit Veh.</td>\n",
       "      <td>Right Angle</td>\n",
       "      <td>Fixed Object</td>\n",
       "      <td>None</td>\n",
       "      <td>None</td>\n",
       "      <td>None</td>\n",
       "      <td>Signalized</td>\n",
       "      <td>Collector</td>\n",
       "    </tr>\n",
       "    <tr>\n",
       "      <th>4.0</th>\n",
       "      <td>Wet road</td>\n",
       "      <td>Bike</td>\n",
       "      <td>NaN</td>\n",
       "      <td>Side Swiped</td>\n",
       "      <td>None</td>\n",
       "      <td>None</td>\n",
       "      <td>None</td>\n",
       "      <td>None</td>\n",
       "      <td>Signalized</td>\n",
       "      <td>Collector</td>\n",
       "    </tr>\n",
       "    <tr>\n",
       "      <th>5.0</th>\n",
       "      <td>Wet road</td>\n",
       "      <td>Side Swiped</td>\n",
       "      <td>Head On</td>\n",
       "      <td>NaN</td>\n",
       "      <td>None</td>\n",
       "      <td>None</td>\n",
       "      <td>None</td>\n",
       "      <td>None</td>\n",
       "      <td>Signalized</td>\n",
       "      <td>Collector</td>\n",
       "    </tr>\n",
       "    <tr>\n",
       "      <th>...</th>\n",
       "      <td>...</td>\n",
       "      <td>...</td>\n",
       "      <td>...</td>\n",
       "      <td>...</td>\n",
       "      <td>...</td>\n",
       "      <td>...</td>\n",
       "      <td>...</td>\n",
       "      <td>...</td>\n",
       "      <td>...</td>\n",
       "      <td>...</td>\n",
       "    </tr>\n",
       "    <tr>\n",
       "      <th>16620.0</th>\n",
       "      <td>Pedestrian</td>\n",
       "      <td>NaN</td>\n",
       "      <td>None</td>\n",
       "      <td>None</td>\n",
       "      <td>None</td>\n",
       "      <td>None</td>\n",
       "      <td>None</td>\n",
       "      <td>None</td>\n",
       "      <td>Signalized</td>\n",
       "      <td>Collector</td>\n",
       "    </tr>\n",
       "    <tr>\n",
       "      <th>16621.0</th>\n",
       "      <td>Speed related</td>\n",
       "      <td>Pedestrian</td>\n",
       "      <td>NaN</td>\n",
       "      <td>Side Swiped</td>\n",
       "      <td>Left Turn Hit Veh.</td>\n",
       "      <td>None</td>\n",
       "      <td>None</td>\n",
       "      <td>None</td>\n",
       "      <td>Signalized</td>\n",
       "      <td>Collector</td>\n",
       "    </tr>\n",
       "    <tr>\n",
       "      <th>16623.0</th>\n",
       "      <td>Nighttime</td>\n",
       "      <td>Wet road</td>\n",
       "      <td>Speed related</td>\n",
       "      <td>Rear End</td>\n",
       "      <td>Side Swiped</td>\n",
       "      <td>None</td>\n",
       "      <td>None</td>\n",
       "      <td>None</td>\n",
       "      <td>NaN</td>\n",
       "      <td>Interstate</td>\n",
       "    </tr>\n",
       "    <tr>\n",
       "      <th>16624.0</th>\n",
       "      <td>Nighttime</td>\n",
       "      <td>Wet road</td>\n",
       "      <td>Pedestrian</td>\n",
       "      <td>Rear End</td>\n",
       "      <td>Side Swiped</td>\n",
       "      <td>NaN</td>\n",
       "      <td>None</td>\n",
       "      <td>None</td>\n",
       "      <td>NaN</td>\n",
       "      <td>Interstate</td>\n",
       "    </tr>\n",
       "    <tr>\n",
       "      <th>16625.0</th>\n",
       "      <td>Nighttime</td>\n",
       "      <td>Rear End</td>\n",
       "      <td>Fixed Object</td>\n",
       "      <td>None</td>\n",
       "      <td>None</td>\n",
       "      <td>None</td>\n",
       "      <td>None</td>\n",
       "      <td>None</td>\n",
       "      <td>NaN</td>\n",
       "      <td>Interstate</td>\n",
       "    </tr>\n",
       "  </tbody>\n",
       "</table>\n",
       "<p>10696 rows × 10 columns</p>\n",
       "</div>"
      ],
      "text/plain": [
       "             problem_1    problem_2            problem_3     problem_4  \\\n",
       "1.0          Nighttime     Wet road                  NaN          None   \n",
       "2.0      Speed related   Pedestrian                 Bike  Fixed Object   \n",
       "3.0           Wet road   Pedestrian  Right Turn Hit Veh.   Right Angle   \n",
       "4.0           Wet road         Bike                  NaN   Side Swiped   \n",
       "5.0           Wet road  Side Swiped              Head On           NaN   \n",
       "...                ...          ...                  ...           ...   \n",
       "16620.0     Pedestrian          NaN                 None          None   \n",
       "16621.0  Speed related   Pedestrian                  NaN   Side Swiped   \n",
       "16623.0      Nighttime     Wet road        Speed related      Rear End   \n",
       "16624.0      Nighttime     Wet road           Pedestrian      Rear End   \n",
       "16625.0      Nighttime     Rear End         Fixed Object          None   \n",
       "\n",
       "                  problem_5           problem_6 problem_7 problem_8  \\\n",
       "1.0                    None                None      None      None   \n",
       "2.0                     NaN  Left Turn Hit Veh.      None      None   \n",
       "3.0            Fixed Object                None      None      None   \n",
       "4.0                    None                None      None      None   \n",
       "5.0                    None                None      None      None   \n",
       "...                     ...                 ...       ...       ...   \n",
       "16620.0                None                None      None      None   \n",
       "16621.0  Left Turn Hit Veh.                None      None      None   \n",
       "16623.0         Side Swiped                None      None      None   \n",
       "16624.0         Side Swiped                 NaN      None      None   \n",
       "16625.0                None                None      None      None   \n",
       "\n",
       "        traffic_control_type functional_classification  \n",
       "1.0                      NaN                 Collector  \n",
       "2.0               Signalized                 Collector  \n",
       "3.0               Signalized                 Collector  \n",
       "4.0               Signalized                 Collector  \n",
       "5.0               Signalized                 Collector  \n",
       "...                      ...                       ...  \n",
       "16620.0           Signalized                 Collector  \n",
       "16621.0           Signalized                 Collector  \n",
       "16623.0                  NaN                Interstate  \n",
       "16624.0                  NaN                Interstate  \n",
       "16625.0                  NaN                Interstate  \n",
       "\n",
       "[10696 rows x 10 columns]"
      ]
     },
     "execution_count": 31,
     "metadata": {},
     "output_type": "execute_result"
    }
   ],
   "source": [
    "seg_prob"
   ]
  },
  {
   "cell_type": "markdown",
   "id": "b11087a3",
   "metadata": {},
   "source": [
    "#### The number of segments reduces to 10,696"
   ]
  },
  {
   "cell_type": "markdown",
   "id": "946984e5",
   "metadata": {},
   "source": [
    "### Import and revise the matrix\n",
    "### Developers can use the final output of this part. Skip to 2.2"
   ]
  },
  {
   "cell_type": "code",
   "execution_count": 33,
   "id": "d52ebd39",
   "metadata": {},
   "outputs": [],
   "source": [
    "matrix = pd.read_excel(r\"C:/Users/sina/Documents/My_Projects/Countermeasures/Final_developers.xlsx\")"
   ]
  },
  {
   "cell_type": "code",
   "execution_count": 34,
   "id": "f9b42945",
   "metadata": {},
   "outputs": [
    {
     "name": "stdout",
     "output_type": "stream",
     "text": [
      "Index(['Countermeasure', 'CMF_Fatal', 'CMF_Injury', 'CMF_PDO',\n",
      "       'Intersection Related', 'Traffic Control Type', 'Local', 'Collector',\n",
      "       'Minor Arterial', 'Principal Arterial Other',\n",
      "       'Principal Arterial Other Freeways and Expressways',\n",
      "       'Principal Arterial Interstate', 'Speed related', 'Nighttime',\n",
      "       'Wet road', 'Pedestrian', 'Bike', 'Angle', 'Rear End',\n",
      "       'Left Turn Hit Veh.', 'Right Turn Hit Veh.', 'Side Swiped', 'Head On',\n",
      "       'Non-Collision Accident', 'Fixed Object'],\n",
      "      dtype='object')\n",
      "(198, 25)\n"
     ]
    }
   ],
   "source": [
    "print(matrix.columns)\n",
    "print(matrix.shape)"
   ]
  },
  {
   "cell_type": "markdown",
   "id": "7b32cdb4",
   "metadata": {},
   "source": [
    "### One idea is to have a single row for each combination of intersection related/roadway type/collision type"
   ]
  },
  {
   "cell_type": "code",
   "execution_count": 35,
   "id": "73008fef",
   "metadata": {},
   "outputs": [],
   "source": [
    "m = matrix.melt(id_vars= ['Countermeasure', 'CMF_Fatal', 'CMF_Injury', 'CMF_PDO',  'Intersection Related', \n",
    "        'Traffic Control Type', 'Local', 'Collector',\n",
    "       'Minor Arterial', 'Principal Arterial Other',\n",
    "       'Principal Arterial Other Freeways and Expressways',\n",
    "       'Principal Arterial Interstate'], var_name= 'Condition', value_name= 'Condition Status').drop_duplicates()\n",
    "m = m.loc[m['Condition Status'] == 'yes']"
   ]
  },
  {
   "cell_type": "code",
   "execution_count": 36,
   "id": "afd0e2ce",
   "metadata": {},
   "outputs": [],
   "source": [
    "m_new = m.melt(id_vars= ['Countermeasure', 'CMF_Fatal', 'CMF_Injury', 'CMF_PDO', 'Condition', 'Condition Status', \n",
    "                 'Intersection Related', 'Traffic Control Type'], var_name= 'Roadway Type')\n",
    "m_new = m_new.loc[m_new['value'] == 'yes']"
   ]
  },
  {
   "cell_type": "code",
   "execution_count": 37,
   "id": "e014272e",
   "metadata": {},
   "outputs": [],
   "source": [
    "m_new.drop(['Condition Status', 'value'], axis = 1, inplace= True)\n",
    "m_new.drop_duplicates(inplace = True)"
   ]
  },
  {
   "cell_type": "code",
   "execution_count": 38,
   "id": "e16e818d",
   "metadata": {},
   "outputs": [
    {
     "data": {
      "text/html": [
       "<div>\n",
       "<style scoped>\n",
       "    .dataframe tbody tr th:only-of-type {\n",
       "        vertical-align: middle;\n",
       "    }\n",
       "\n",
       "    .dataframe tbody tr th {\n",
       "        vertical-align: top;\n",
       "    }\n",
       "\n",
       "    .dataframe thead th {\n",
       "        text-align: right;\n",
       "    }\n",
       "</style>\n",
       "<table border=\"1\" class=\"dataframe\">\n",
       "  <thead>\n",
       "    <tr style=\"text-align: right;\">\n",
       "      <th></th>\n",
       "      <th>Countermeasure</th>\n",
       "      <th>CMF_Fatal</th>\n",
       "      <th>CMF_Injury</th>\n",
       "      <th>CMF_PDO</th>\n",
       "      <th>Condition</th>\n",
       "      <th>Intersection Related</th>\n",
       "      <th>Traffic Control Type</th>\n",
       "      <th>Roadway Type</th>\n",
       "    </tr>\n",
       "  </thead>\n",
       "  <tbody>\n",
       "    <tr>\n",
       "      <th>0</th>\n",
       "      <td>add 3-inch yellow retroreflective sheeting to ...</td>\n",
       "      <td>0.850</td>\n",
       "      <td>0.850</td>\n",
       "      <td>0.850</td>\n",
       "      <td>Speed related</td>\n",
       "      <td>yes</td>\n",
       "      <td>Signalized</td>\n",
       "      <td>Local</td>\n",
       "    </tr>\n",
       "    <tr>\n",
       "      <th>1</th>\n",
       "      <td>flatten side slopes</td>\n",
       "      <td>0.580</td>\n",
       "      <td>0.580</td>\n",
       "      <td>0.580</td>\n",
       "      <td>Speed related</td>\n",
       "      <td>no</td>\n",
       "      <td>NaN</td>\n",
       "      <td>Local</td>\n",
       "    </tr>\n",
       "    <tr>\n",
       "      <th>2</th>\n",
       "      <td>implement mobile automated speed enforcement s...</td>\n",
       "      <td>0.910</td>\n",
       "      <td>0.910</td>\n",
       "      <td>0.910</td>\n",
       "      <td>Speed related</td>\n",
       "      <td>no</td>\n",
       "      <td>NaN</td>\n",
       "      <td>Local</td>\n",
       "    </tr>\n",
       "    <tr>\n",
       "      <th>3</th>\n",
       "      <td>improve street lighting illuminance and unifor...</td>\n",
       "      <td>0.679</td>\n",
       "      <td>0.679</td>\n",
       "      <td>0.679</td>\n",
       "      <td>Speed related</td>\n",
       "      <td>no</td>\n",
       "      <td>NaN</td>\n",
       "      <td>Local</td>\n",
       "    </tr>\n",
       "    <tr>\n",
       "      <th>4</th>\n",
       "      <td>increase distance to roadside features from 16...</td>\n",
       "      <td>0.560</td>\n",
       "      <td>0.560</td>\n",
       "      <td>0.560</td>\n",
       "      <td>Speed related</td>\n",
       "      <td>no</td>\n",
       "      <td>NaN</td>\n",
       "      <td>Local</td>\n",
       "    </tr>\n",
       "  </tbody>\n",
       "</table>\n",
       "</div>"
      ],
      "text/plain": [
       "                                      Countermeasure  CMF_Fatal  CMF_Injury  \\\n",
       "0  add 3-inch yellow retroreflective sheeting to ...      0.850       0.850   \n",
       "1                                flatten side slopes      0.580       0.580   \n",
       "2  implement mobile automated speed enforcement s...      0.910       0.910   \n",
       "3  improve street lighting illuminance and unifor...      0.679       0.679   \n",
       "4  increase distance to roadside features from 16...      0.560       0.560   \n",
       "\n",
       "   CMF_PDO      Condition Intersection Related Traffic Control Type  \\\n",
       "0    0.850  Speed related                  yes           Signalized   \n",
       "1    0.580  Speed related                   no                  NaN   \n",
       "2    0.910  Speed related                   no                  NaN   \n",
       "3    0.679  Speed related                   no                  NaN   \n",
       "4    0.560  Speed related                   no                  NaN   \n",
       "\n",
       "  Roadway Type  \n",
       "0        Local  \n",
       "1        Local  \n",
       "2        Local  \n",
       "3        Local  \n",
       "4        Local  "
      ]
     },
     "metadata": {},
     "output_type": "display_data"
    },
    {
     "name": "stdout",
     "output_type": "stream",
     "text": [
      "(3334, 8)\n"
     ]
    }
   ],
   "source": [
    "# Check\n",
    "\n",
    "display(m_new.head())\n",
    "print(m_new.shape)"
   ]
  },
  {
   "cell_type": "code",
   "execution_count": 39,
   "id": "ccf69b0b",
   "metadata": {},
   "outputs": [],
   "source": [
    "m_new2 = m_new.melt(id_vars= ['Countermeasure', 'Condition',  \n",
    "                 'Intersection Related', 'Traffic Control Type', 'Roadway Type'], var_name= 'CMF Type', value_name= 'CMF Value')"
   ]
  },
  {
   "cell_type": "code",
   "execution_count": 40,
   "id": "00e00100",
   "metadata": {},
   "outputs": [
    {
     "name": "stdout",
     "output_type": "stream",
     "text": [
      "(9970, 7)\n"
     ]
    }
   ],
   "source": [
    "m_new2.drop_duplicates(inplace= True)\n",
    "print(m_new2.shape)"
   ]
  },
  {
   "cell_type": "code",
   "execution_count": 41,
   "id": "6cfa4d41",
   "metadata": {},
   "outputs": [
    {
     "data": {
      "text/plain": [
       "1798"
      ]
     },
     "execution_count": 41,
     "metadata": {},
     "output_type": "execute_result"
    }
   ],
   "source": [
    "#Same countermeasure, same inetrsection and control type, same roadway type, same condition, same CMF type, Different CMF values\n",
    "\n",
    "m_new2.duplicated(subset= ['Countermeasure', 'Condition',\n",
    "       'Intersection Related', 'Traffic Control Type', 'Roadway Type', 'CMF Type']).sum()"
   ]
  },
  {
   "cell_type": "code",
   "execution_count": 42,
   "id": "1d9aabda",
   "metadata": {},
   "outputs": [],
   "source": [
    "# Select the minimim CMF value if the above case is True\n",
    "\n",
    "matrix_final = m_new2.sort_values(['Countermeasure', 'Condition',\n",
    "       'Intersection Related', 'Traffic Control Type', 'Roadway Type', 'CMF Type', 'CMF Value'])"
   ]
  },
  {
   "cell_type": "code",
   "execution_count": 43,
   "id": "5b17d870",
   "metadata": {},
   "outputs": [],
   "source": [
    "matrix_final.drop_duplicates(subset= ['Countermeasure', 'Condition',\n",
    "       'Intersection Related', 'Traffic Control Type', 'Roadway Type', 'CMF Type'], inplace= True)\n",
    "matrix_final = matrix_final.reset_index(drop = True)"
   ]
  },
  {
   "cell_type": "code",
   "execution_count": 44,
   "id": "8d6f8d0c",
   "metadata": {},
   "outputs": [
    {
     "data": {
      "text/html": [
       "<div>\n",
       "<style scoped>\n",
       "    .dataframe tbody tr th:only-of-type {\n",
       "        vertical-align: middle;\n",
       "    }\n",
       "\n",
       "    .dataframe tbody tr th {\n",
       "        vertical-align: top;\n",
       "    }\n",
       "\n",
       "    .dataframe thead th {\n",
       "        text-align: right;\n",
       "    }\n",
       "</style>\n",
       "<table border=\"1\" class=\"dataframe\">\n",
       "  <thead>\n",
       "    <tr style=\"text-align: right;\">\n",
       "      <th></th>\n",
       "      <th>Countermeasure</th>\n",
       "      <th>Condition</th>\n",
       "      <th>Intersection Related</th>\n",
       "      <th>Traffic Control Type</th>\n",
       "      <th>Roadway Type</th>\n",
       "      <th>CMF Type</th>\n",
       "      <th>CMF Value</th>\n",
       "    </tr>\n",
       "  </thead>\n",
       "  <tbody>\n",
       "    <tr>\n",
       "      <th>0</th>\n",
       "      <td>10-ft to 50-ft conversion (median width)</td>\n",
       "      <td>Angle</td>\n",
       "      <td>no</td>\n",
       "      <td>NaN</td>\n",
       "      <td>Collector</td>\n",
       "      <td>CMF_Fatal</td>\n",
       "      <td>0.68</td>\n",
       "    </tr>\n",
       "    <tr>\n",
       "      <th>1</th>\n",
       "      <td>10-ft to 50-ft conversion (median width)</td>\n",
       "      <td>Angle</td>\n",
       "      <td>no</td>\n",
       "      <td>NaN</td>\n",
       "      <td>Collector</td>\n",
       "      <td>CMF_Injury</td>\n",
       "      <td>0.68</td>\n",
       "    </tr>\n",
       "    <tr>\n",
       "      <th>2</th>\n",
       "      <td>10-ft to 50-ft conversion (median width)</td>\n",
       "      <td>Angle</td>\n",
       "      <td>no</td>\n",
       "      <td>NaN</td>\n",
       "      <td>Collector</td>\n",
       "      <td>CMF_PDO</td>\n",
       "      <td>0.68</td>\n",
       "    </tr>\n",
       "    <tr>\n",
       "      <th>3</th>\n",
       "      <td>10-ft to 50-ft conversion (median width)</td>\n",
       "      <td>Angle</td>\n",
       "      <td>no</td>\n",
       "      <td>NaN</td>\n",
       "      <td>Local</td>\n",
       "      <td>CMF_Fatal</td>\n",
       "      <td>0.68</td>\n",
       "    </tr>\n",
       "    <tr>\n",
       "      <th>4</th>\n",
       "      <td>10-ft to 50-ft conversion (median width)</td>\n",
       "      <td>Angle</td>\n",
       "      <td>no</td>\n",
       "      <td>NaN</td>\n",
       "      <td>Local</td>\n",
       "      <td>CMF_Injury</td>\n",
       "      <td>0.68</td>\n",
       "    </tr>\n",
       "  </tbody>\n",
       "</table>\n",
       "</div>"
      ],
      "text/plain": [
       "                             Countermeasure Condition Intersection Related  \\\n",
       "0  10-ft to 50-ft conversion (median width)     Angle                   no   \n",
       "1  10-ft to 50-ft conversion (median width)     Angle                   no   \n",
       "2  10-ft to 50-ft conversion (median width)     Angle                   no   \n",
       "3  10-ft to 50-ft conversion (median width)     Angle                   no   \n",
       "4  10-ft to 50-ft conversion (median width)     Angle                   no   \n",
       "\n",
       "  Traffic Control Type Roadway Type    CMF Type  CMF Value  \n",
       "0                  NaN    Collector   CMF_Fatal       0.68  \n",
       "1                  NaN    Collector  CMF_Injury       0.68  \n",
       "2                  NaN    Collector     CMF_PDO       0.68  \n",
       "3                  NaN        Local   CMF_Fatal       0.68  \n",
       "4                  NaN        Local  CMF_Injury       0.68  "
      ]
     },
     "metadata": {},
     "output_type": "display_data"
    }
   ],
   "source": [
    "# Check\n",
    "display(matrix_final.head())"
   ]
  },
  {
   "cell_type": "code",
   "execution_count": 45,
   "id": "72eec832",
   "metadata": {},
   "outputs": [],
   "source": [
    "matrix_final.to_csv('matrix_final.csv', index= False)"
   ]
  },
  {
   "cell_type": "markdown",
   "id": "4fdf700a",
   "metadata": {},
   "source": [
    "#### matrix_final includes the countermeasures and their associated CMF for different conditions, intersection status, traffic control types, roadway types, and severity levels"
   ]
  },
  {
   "cell_type": "markdown",
   "id": "da2a46f9",
   "metadata": {},
   "source": [
    "### 2.2"
   ]
  },
  {
   "cell_type": "code",
   "execution_count": 46,
   "id": "698ae5c7",
   "metadata": {},
   "outputs": [],
   "source": [
    "### np.nan == np.nan returns False. Therefore, we have to replace the NaN values in the Traffic Control Type column for both\n",
    "# tables\n",
    "\n",
    "seg_prob.traffic_control_type.fillna('Non-intersection', inplace= True)\n",
    "matrix_final['Traffic Control Type'].fillna('Non-intersection', inplace= True)"
   ]
  },
  {
   "cell_type": "code",
   "execution_count": 47,
   "id": "9e39dea2",
   "metadata": {},
   "outputs": [],
   "source": [
    "from itertools import repeat\n",
    "\n",
    "seg_countermeasures = []\n",
    "\n",
    "for row in seg_prob.itertuples():\n",
    "    t1 = matrix_final.loc[(matrix_final['Roadway Type'] == row.functional_classification) &\\\n",
    "                           (matrix_final['Traffic Control Type'] == row.traffic_control_type) &\\\n",
    "                           (matrix_final['Condition'] == row.problem_1)]\n",
    "    t2 = matrix_final.loc[(matrix_final['Roadway Type'] == row.functional_classification) &\\\n",
    "                           (matrix_final['Traffic Control Type'] == row.traffic_control_type) &\\\n",
    "                           (matrix_final['Condition'] == row.problem_2)]\n",
    "    t3 = matrix_final.loc[(matrix_final['Roadway Type'] == row.functional_classification) &\\\n",
    "                           (matrix_final['Traffic Control Type'] == row.traffic_control_type) &\\\n",
    "                           (matrix_final['Condition'] == row.problem_3)]\n",
    "    t4 = matrix_final.loc[(matrix_final['Roadway Type'] == row.functional_classification) &\\\n",
    "                           (matrix_final['Traffic Control Type'] == row.traffic_control_type) &\\\n",
    "                           (matrix_final['Condition'] == row.problem_4)]\n",
    "    t5 = matrix_final.loc[(matrix_final['Roadway Type'] == row.functional_classification) &\\\n",
    "                           (matrix_final['Traffic Control Type'] == row.traffic_control_type) &\\\n",
    "                           (matrix_final['Condition'] == row.problem_5)]\n",
    "    t6 = matrix_final.loc[(matrix_final['Roadway Type'] == row.functional_classification) &\\\n",
    "                           (matrix_final['Traffic Control Type'] == row.traffic_control_type) &\\\n",
    "                           (matrix_final['Condition'] == row.problem_6)]\n",
    "    t7 = matrix_final.loc[(matrix_final['Roadway Type'] == row.functional_classification) &\\\n",
    "                           (matrix_final['Traffic Control Type'] == row.traffic_control_type) &\\\n",
    "                           (matrix_final['Condition'] == row.problem_7)]\n",
    "    t8 = matrix_final.loc[(matrix_final['Roadway Type'] == row.functional_classification) &\\\n",
    "                           (matrix_final['Traffic Control Type'] == row.traffic_control_type) &\\\n",
    "                           (matrix_final['Condition'] == row.problem_8)]\n",
    "    df = pd.concat([t1, t2, t3, t4, t5, t6, t7, t8], ignore_index = True)\n",
    "    a = pd.DataFrame(repeat(row.Index, df.shape[0]), columns= ['segment_id'])\n",
    "    df = df.merge(a, left_index= True, right_index= True)\n",
    "    \n",
    "    seg_countermeasures.append(df)"
   ]
  },
  {
   "cell_type": "markdown",
   "id": "ea564b9e",
   "metadata": {},
   "source": [
    "### Add the other crash condition/collision type rows which change with the same countermeasures for the same combination of roadway type and traffic control type"
   ]
  },
  {
   "cell_type": "code",
   "execution_count": 48,
   "id": "9840fed8",
   "metadata": {},
   "outputs": [],
   "source": [
    "seg_countermeasures_all = []\n",
    "\n",
    "for df in seg_countermeasures:\n",
    "    \n",
    "    added = matrix_final.loc[(matrix_final.Countermeasure.isin(set(df.Countermeasure))) &\\\n",
    "                             (matrix_final['Roadway Type'].isin(set(df['Roadway Type']))) &\\\n",
    "                        (matrix_final['Traffic Control Type'].isin(set(df['Traffic Control Type'])))].reset_index(drop = True)\n",
    "    \n",
    "    a = pd.DataFrame(repeat(set(df.segment_id), added.shape[0]), columns= ['segment_id'])\n",
    "    added = added.merge(a, left_index = True, right_index = True)\n",
    "    \n",
    "    df = pd.concat([df, added], ignore_index= True)\n",
    "    seg_countermeasures_all.append(df) "
   ]
  },
  {
   "cell_type": "markdown",
   "id": "40904f3d",
   "metadata": {},
   "source": [
    "#### seg_countermeasures_all includes all available countermeasure for each segment, based on the prevailing conditions and dominant collision types. seg_countermeasures_all is a list of data frames. Each data frame contains the countermeasures for one segment"
   ]
  },
  {
   "cell_type": "code",
   "execution_count": 49,
   "id": "3283cbc9",
   "metadata": {},
   "outputs": [
    {
     "data": {
      "text/html": [
       "<div>\n",
       "<style scoped>\n",
       "    .dataframe tbody tr th:only-of-type {\n",
       "        vertical-align: middle;\n",
       "    }\n",
       "\n",
       "    .dataframe tbody tr th {\n",
       "        vertical-align: top;\n",
       "    }\n",
       "\n",
       "    .dataframe thead th {\n",
       "        text-align: right;\n",
       "    }\n",
       "</style>\n",
       "<table border=\"1\" class=\"dataframe\">\n",
       "  <thead>\n",
       "    <tr style=\"text-align: right;\">\n",
       "      <th></th>\n",
       "      <th>Countermeasure</th>\n",
       "      <th>Condition</th>\n",
       "      <th>Intersection Related</th>\n",
       "      <th>Traffic Control Type</th>\n",
       "      <th>Roadway Type</th>\n",
       "      <th>CMF Type</th>\n",
       "      <th>CMF Value</th>\n",
       "      <th>segment_id</th>\n",
       "    </tr>\n",
       "  </thead>\n",
       "  <tbody>\n",
       "    <tr>\n",
       "      <th>0</th>\n",
       "      <td>converting four-lane roadways to three-lane ro...</td>\n",
       "      <td>Nighttime</td>\n",
       "      <td>no</td>\n",
       "      <td>Non-intersection</td>\n",
       "      <td>Collector</td>\n",
       "      <td>CMF_Fatal</td>\n",
       "      <td>0.530</td>\n",
       "      <td>1.0</td>\n",
       "    </tr>\n",
       "    <tr>\n",
       "      <th>1</th>\n",
       "      <td>converting four-lane roadways to three-lane ro...</td>\n",
       "      <td>Nighttime</td>\n",
       "      <td>no</td>\n",
       "      <td>Non-intersection</td>\n",
       "      <td>Collector</td>\n",
       "      <td>CMF_Injury</td>\n",
       "      <td>0.530</td>\n",
       "      <td>1.0</td>\n",
       "    </tr>\n",
       "    <tr>\n",
       "      <th>2</th>\n",
       "      <td>converting four-lane roadways to three-lane ro...</td>\n",
       "      <td>Nighttime</td>\n",
       "      <td>no</td>\n",
       "      <td>Non-intersection</td>\n",
       "      <td>Collector</td>\n",
       "      <td>CMF_PDO</td>\n",
       "      <td>0.530</td>\n",
       "      <td>1.0</td>\n",
       "    </tr>\n",
       "    <tr>\n",
       "      <th>3</th>\n",
       "      <td>flatten side slopes</td>\n",
       "      <td>Nighttime</td>\n",
       "      <td>no</td>\n",
       "      <td>Non-intersection</td>\n",
       "      <td>Collector</td>\n",
       "      <td>CMF_Fatal</td>\n",
       "      <td>0.580</td>\n",
       "      <td>1.0</td>\n",
       "    </tr>\n",
       "    <tr>\n",
       "      <th>4</th>\n",
       "      <td>flatten side slopes</td>\n",
       "      <td>Nighttime</td>\n",
       "      <td>no</td>\n",
       "      <td>Non-intersection</td>\n",
       "      <td>Collector</td>\n",
       "      <td>CMF_Injury</td>\n",
       "      <td>0.580</td>\n",
       "      <td>1.0</td>\n",
       "    </tr>\n",
       "    <tr>\n",
       "      <th>...</th>\n",
       "      <td>...</td>\n",
       "      <td>...</td>\n",
       "      <td>...</td>\n",
       "      <td>...</td>\n",
       "      <td>...</td>\n",
       "      <td>...</td>\n",
       "      <td>...</td>\n",
       "      <td>...</td>\n",
       "    </tr>\n",
       "    <tr>\n",
       "      <th>880</th>\n",
       "      <td>upgrade existing markings to wet-reflective pa...</td>\n",
       "      <td>Speed related</td>\n",
       "      <td>no</td>\n",
       "      <td>Non-intersection</td>\n",
       "      <td>Collector</td>\n",
       "      <td>CMF_Injury</td>\n",
       "      <td>0.595</td>\n",
       "      <td>1.0</td>\n",
       "    </tr>\n",
       "    <tr>\n",
       "      <th>881</th>\n",
       "      <td>upgrade existing markings to wet-reflective pa...</td>\n",
       "      <td>Speed related</td>\n",
       "      <td>no</td>\n",
       "      <td>Non-intersection</td>\n",
       "      <td>Collector</td>\n",
       "      <td>CMF_PDO</td>\n",
       "      <td>0.825</td>\n",
       "      <td>1.0</td>\n",
       "    </tr>\n",
       "    <tr>\n",
       "      <th>882</th>\n",
       "      <td>upgrade existing markings to wet-reflective pa...</td>\n",
       "      <td>Wet road</td>\n",
       "      <td>no</td>\n",
       "      <td>Non-intersection</td>\n",
       "      <td>Collector</td>\n",
       "      <td>CMF_Fatal</td>\n",
       "      <td>0.466</td>\n",
       "      <td>1.0</td>\n",
       "    </tr>\n",
       "    <tr>\n",
       "      <th>883</th>\n",
       "      <td>upgrade existing markings to wet-reflective pa...</td>\n",
       "      <td>Wet road</td>\n",
       "      <td>no</td>\n",
       "      <td>Non-intersection</td>\n",
       "      <td>Collector</td>\n",
       "      <td>CMF_Injury</td>\n",
       "      <td>0.466</td>\n",
       "      <td>1.0</td>\n",
       "    </tr>\n",
       "    <tr>\n",
       "      <th>884</th>\n",
       "      <td>upgrade existing markings to wet-reflective pa...</td>\n",
       "      <td>Wet road</td>\n",
       "      <td>no</td>\n",
       "      <td>Non-intersection</td>\n",
       "      <td>Collector</td>\n",
       "      <td>CMF_PDO</td>\n",
       "      <td>0.746</td>\n",
       "      <td>1.0</td>\n",
       "    </tr>\n",
       "  </tbody>\n",
       "</table>\n",
       "<p>885 rows × 8 columns</p>\n",
       "</div>"
      ],
      "text/plain": [
       "                                        Countermeasure      Condition  \\\n",
       "0    converting four-lane roadways to three-lane ro...      Nighttime   \n",
       "1    converting four-lane roadways to three-lane ro...      Nighttime   \n",
       "2    converting four-lane roadways to three-lane ro...      Nighttime   \n",
       "3                                  flatten side slopes      Nighttime   \n",
       "4                                  flatten side slopes      Nighttime   \n",
       "..                                                 ...            ...   \n",
       "880  upgrade existing markings to wet-reflective pa...  Speed related   \n",
       "881  upgrade existing markings to wet-reflective pa...  Speed related   \n",
       "882  upgrade existing markings to wet-reflective pa...       Wet road   \n",
       "883  upgrade existing markings to wet-reflective pa...       Wet road   \n",
       "884  upgrade existing markings to wet-reflective pa...       Wet road   \n",
       "\n",
       "    Intersection Related Traffic Control Type Roadway Type    CMF Type  \\\n",
       "0                     no     Non-intersection    Collector   CMF_Fatal   \n",
       "1                     no     Non-intersection    Collector  CMF_Injury   \n",
       "2                     no     Non-intersection    Collector     CMF_PDO   \n",
       "3                     no     Non-intersection    Collector   CMF_Fatal   \n",
       "4                     no     Non-intersection    Collector  CMF_Injury   \n",
       "..                   ...                  ...          ...         ...   \n",
       "880                   no     Non-intersection    Collector  CMF_Injury   \n",
       "881                   no     Non-intersection    Collector     CMF_PDO   \n",
       "882                   no     Non-intersection    Collector   CMF_Fatal   \n",
       "883                   no     Non-intersection    Collector  CMF_Injury   \n",
       "884                   no     Non-intersection    Collector     CMF_PDO   \n",
       "\n",
       "     CMF Value  segment_id  \n",
       "0        0.530         1.0  \n",
       "1        0.530         1.0  \n",
       "2        0.530         1.0  \n",
       "3        0.580         1.0  \n",
       "4        0.580         1.0  \n",
       "..         ...         ...  \n",
       "880      0.595         1.0  \n",
       "881      0.825         1.0  \n",
       "882      0.466         1.0  \n",
       "883      0.466         1.0  \n",
       "884      0.746         1.0  \n",
       "\n",
       "[885 rows x 8 columns]"
      ]
     },
     "metadata": {},
     "output_type": "display_data"
    }
   ],
   "source": [
    "# Check\n",
    "    \n",
    "display(seg_countermeasures_all[0])"
   ]
  },
  {
   "cell_type": "code",
   "execution_count": 341,
   "id": "40a6635f",
   "metadata": {},
   "outputs": [],
   "source": [
    "# Drop duplicates\n",
    "\n",
    "seg_countermeasures_all = [x.drop_duplicates() for x in seg_countermeasures_all]"
   ]
  },
  {
   "attachments": {
    "Untitled%20Diagram.jpg": {
     "image/jpeg": "[encoded data removed]"
    }
   },
   "cell_type": "markdown",
   "id": "5170ffac",
   "metadata": {},
   "source": [
    "![Untitled%20Diagram.jpg](attachment:Untitled%20Diagram.jpg)"
   ]
  },
  {
   "cell_type": "markdown",
   "id": "64786ee3",
   "metadata": {},
   "source": [
    "### 2.3"
   ]
  },
  {
   "attachments": {
    "BC_Part2.jpg": {
     "image/jpeg": "[encoded data removed]"
    }
   },
   "cell_type": "markdown",
   "id": "08ad1801",
   "metadata": {},
   "source": [
    "![BC_Part2.jpg](attachment:BC_Part2.jpg)"
   ]
  },
  {
   "cell_type": "markdown",
   "id": "bc538cfa",
   "metadata": {},
   "source": [
    "#### Finding the number of crashes that are affected by each countermeasure for each location"
   ]
  },
  {
   "cell_type": "code",
   "execution_count": 342,
   "id": "8bf0bf3d",
   "metadata": {},
   "outputs": [],
   "source": [
    "# Split the data frames for each segment based on the severity level\n",
    "\n",
    "\n",
    "# Fatal\n",
    "seg_countermeasures_fatal = [x.loc[x['CMF Type'].str.contains('Fatal')].reset_index(drop = True) for \\\n",
    "                             x in seg_countermeasures_all]\n",
    "\n",
    "# Injury\n",
    "seg_countermeasures_injury = [x.loc[x['CMF Type'].str.contains('Injury')].reset_index(drop = True) for \\\n",
    "                             x in seg_countermeasures_all]\n",
    "\n",
    "# PDO\n",
    "seg_countermeasures_pdo = [x.loc[x['CMF Type'].str.contains('PDO')].reset_index(drop = True) for \\\n",
    "                             x in seg_countermeasures_all]"
   ]
  },
  {
   "cell_type": "code",
   "execution_count": 302,
   "id": "2ed0c047",
   "metadata": {},
   "outputs": [
    {
     "name": "stdout",
     "output_type": "stream",
     "text": [
      "(83089, 15)\n",
      "(83089, 10)\n"
     ]
    }
   ],
   "source": [
    "crash_data_reduced = crash_data[['ccn', 'severity', 'collision_type', 'num_speed', 'num_ped_involved', \n",
    "                                         'num_bike_involved', 'is_wet', 'is_dark', 'intersection_id', 'segment_id']]\n",
    "\n",
    "print(crash_data.shape)\n",
    "print(crash_data_reduced.shape)"
   ]
  },
  {
   "cell_type": "markdown",
   "id": "89b8c106",
   "metadata": {},
   "source": [
    "We need to revise the crash data: if we have a crash with nighttime, ped, wet, speed, or bike, we create another row for it in the crash table, with everything the same, except the collision_type"
   ]
  },
  {
   "cell_type": "code",
   "execution_count": 303,
   "id": "628af8e0",
   "metadata": {},
   "outputs": [
    {
     "name": "stderr",
     "output_type": "stream",
     "text": [
      "C:\\Users\\sina\\AppData\\Local\\Temp/ipykernel_1292/1066431815.py:2: SettingWithCopyWarning: \n",
      "A value is trying to be set on a copy of a slice from a DataFrame.\n",
      "Try using .loc[row_indexer,col_indexer] = value instead\n",
      "\n",
      "See the caveats in the documentation: https://pandas.pydata.org/pandas-docs/stable/user_guide/indexing.html#returning-a-view-versus-a-copy\n",
      "  x1['collision_type'] = 'Speed related'\n"
     ]
    }
   ],
   "source": [
    "x1 = crash_data_reduced.loc[crash_data_reduced.num_speed > 0]\n",
    "x1['collision_type'] = 'Speed related'"
   ]
  },
  {
   "cell_type": "code",
   "execution_count": 304,
   "id": "9e1166a8",
   "metadata": {},
   "outputs": [
    {
     "name": "stderr",
     "output_type": "stream",
     "text": [
      "C:\\Users\\sina\\AppData\\Local\\Temp/ipykernel_1292/739382332.py:2: SettingWithCopyWarning: \n",
      "A value is trying to be set on a copy of a slice from a DataFrame.\n",
      "Try using .loc[row_indexer,col_indexer] = value instead\n",
      "\n",
      "See the caveats in the documentation: https://pandas.pydata.org/pandas-docs/stable/user_guide/indexing.html#returning-a-view-versus-a-copy\n",
      "  x2['collision_type'] = 'Pedestrian'\n"
     ]
    }
   ],
   "source": [
    "x2 = crash_data_reduced.loc[crash_data_reduced.num_ped_involved > 0]\n",
    "x2['collision_type'] = 'Pedestrian'"
   ]
  },
  {
   "cell_type": "code",
   "execution_count": 305,
   "id": "49a788b1",
   "metadata": {},
   "outputs": [
    {
     "name": "stderr",
     "output_type": "stream",
     "text": [
      "C:\\Users\\sina\\AppData\\Local\\Temp/ipykernel_1292/325446484.py:2: SettingWithCopyWarning: \n",
      "A value is trying to be set on a copy of a slice from a DataFrame.\n",
      "Try using .loc[row_indexer,col_indexer] = value instead\n",
      "\n",
      "See the caveats in the documentation: https://pandas.pydata.org/pandas-docs/stable/user_guide/indexing.html#returning-a-view-versus-a-copy\n",
      "  x3['collision_type'] = 'Bike'\n"
     ]
    }
   ],
   "source": [
    "x3 = crash_data_reduced.loc[crash_data_reduced.num_bike_involved > 0]\n",
    "x3['collision_type'] = 'Bike'"
   ]
  },
  {
   "cell_type": "code",
   "execution_count": 306,
   "id": "d61475fb",
   "metadata": {},
   "outputs": [
    {
     "name": "stderr",
     "output_type": "stream",
     "text": [
      "C:\\Users\\sina\\AppData\\Local\\Temp/ipykernel_1292/1417181719.py:2: SettingWithCopyWarning: \n",
      "A value is trying to be set on a copy of a slice from a DataFrame.\n",
      "Try using .loc[row_indexer,col_indexer] = value instead\n",
      "\n",
      "See the caveats in the documentation: https://pandas.pydata.org/pandas-docs/stable/user_guide/indexing.html#returning-a-view-versus-a-copy\n",
      "  x4['collision_type'] = 'Nighttime'\n"
     ]
    }
   ],
   "source": [
    "x4 = crash_data_reduced.loc[crash_data_reduced.is_dark == 1]\n",
    "x4['collision_type'] = 'Nighttime'"
   ]
  },
  {
   "cell_type": "code",
   "execution_count": 307,
   "id": "8d277296",
   "metadata": {},
   "outputs": [
    {
     "name": "stderr",
     "output_type": "stream",
     "text": [
      "C:\\Users\\sina\\AppData\\Local\\Temp/ipykernel_1292/4099595882.py:2: SettingWithCopyWarning: \n",
      "A value is trying to be set on a copy of a slice from a DataFrame.\n",
      "Try using .loc[row_indexer,col_indexer] = value instead\n",
      "\n",
      "See the caveats in the documentation: https://pandas.pydata.org/pandas-docs/stable/user_guide/indexing.html#returning-a-view-versus-a-copy\n",
      "  x5['collision_type'] = 'Wet road'\n"
     ]
    }
   ],
   "source": [
    "x5 = crash_data_reduced.loc[crash_data_reduced.is_wet == 1]\n",
    "x5['collision_type'] = 'Wet road'"
   ]
  },
  {
   "cell_type": "code",
   "execution_count": 329,
   "id": "6f386b47",
   "metadata": {},
   "outputs": [],
   "source": [
    "crash_data_reduced = pd.concat([crash_data_reduced, x1, x2, x3, x4, x5], ignore_index= True)\n",
    "\n",
    "\n",
    "# Now that we have crash conditions as collision types, we can remove the rows with null collision types\n",
    "crash_data_reduced.dropna(subset= ['collision_type'], inplace= True)\n",
    "\n",
    "# We have to drop the full duplicates\n",
    "crash_data_reduced.drop_duplicates(inplace= True)"
   ]
  },
  {
   "cell_type": "markdown",
   "id": "5cd2cae7",
   "metadata": {},
   "source": [
    " This new data frames contains all collision types"
   ]
  },
  {
   "cell_type": "code",
   "execution_count": 330,
   "id": "2e367b99",
   "metadata": {},
   "outputs": [
    {
     "name": "stdout",
     "output_type": "stream",
     "text": [
      "(106488, 10)\n"
     ]
    }
   ],
   "source": [
    "# Check\n",
    "\n",
    "print(crash_data_reduced.shape)"
   ]
  },
  {
   "cell_type": "markdown",
   "id": "ce1a3f08",
   "metadata": {},
   "source": [
    "Create three tables based on the severity level"
   ]
  },
  {
   "cell_type": "code",
   "execution_count": 331,
   "id": "b75c82c9",
   "metadata": {},
   "outputs": [],
   "source": [
    "# Fatal\n",
    "crash_data_fatal = crash_data_reduced.loc[crash_data_reduced.severity == 'Fatal']\n",
    "\n",
    "# Injury\n",
    "crash_data_injury = crash_data_reduced.loc[crash_data_reduced.severity == 'Injury']\n",
    "\n",
    "# PDO\n",
    "crash_data_pdo = crash_data_reduced.loc[crash_data_reduced.severity == 'PDO']"
   ]
  },
  {
   "cell_type": "code",
   "execution_count": 332,
   "id": "5cdb407f",
   "metadata": {},
   "outputs": [
    {
     "data": {
      "text/html": [
       "<div>\n",
       "<style scoped>\n",
       "    .dataframe tbody tr th:only-of-type {\n",
       "        vertical-align: middle;\n",
       "    }\n",
       "\n",
       "    .dataframe tbody tr th {\n",
       "        vertical-align: top;\n",
       "    }\n",
       "\n",
       "    .dataframe thead th {\n",
       "        text-align: right;\n",
       "    }\n",
       "</style>\n",
       "<table border=\"1\" class=\"dataframe\">\n",
       "  <thead>\n",
       "    <tr style=\"text-align: right;\">\n",
       "      <th></th>\n",
       "      <th>ccn</th>\n",
       "      <th>severity</th>\n",
       "      <th>collision_type</th>\n",
       "      <th>num_speed</th>\n",
       "      <th>num_ped_involved</th>\n",
       "      <th>num_bike_involved</th>\n",
       "      <th>is_wet</th>\n",
       "      <th>is_dark</th>\n",
       "      <th>intersection_id</th>\n",
       "      <th>segment_id</th>\n",
       "    </tr>\n",
       "  </thead>\n",
       "  <tbody>\n",
       "    <tr>\n",
       "      <th>80880</th>\n",
       "      <td>19087878</td>\n",
       "      <td>PDO</td>\n",
       "      <td>Nighttime</td>\n",
       "      <td>0</td>\n",
       "      <td>0</td>\n",
       "      <td>0</td>\n",
       "      <td>0</td>\n",
       "      <td>1</td>\n",
       "      <td>14636.0</td>\n",
       "      <td>1.0</td>\n",
       "    </tr>\n",
       "    <tr>\n",
       "      <th>81604</th>\n",
       "      <td>19115635</td>\n",
       "      <td>PDO</td>\n",
       "      <td>Nighttime</td>\n",
       "      <td>0</td>\n",
       "      <td>0</td>\n",
       "      <td>0</td>\n",
       "      <td>1</td>\n",
       "      <td>1</td>\n",
       "      <td>14636.0</td>\n",
       "      <td>1.0</td>\n",
       "    </tr>\n",
       "    <tr>\n",
       "      <th>101782</th>\n",
       "      <td>19115635</td>\n",
       "      <td>PDO</td>\n",
       "      <td>Wet road</td>\n",
       "      <td>0</td>\n",
       "      <td>0</td>\n",
       "      <td>0</td>\n",
       "      <td>1</td>\n",
       "      <td>1</td>\n",
       "      <td>14636.0</td>\n",
       "      <td>1.0</td>\n",
       "    </tr>\n",
       "  </tbody>\n",
       "</table>\n",
       "</div>"
      ],
      "text/plain": [
       "             ccn severity collision_type  num_speed  num_ped_involved  \\\n",
       "80880   19087878      PDO      Nighttime          0                 0   \n",
       "81604   19115635      PDO      Nighttime          0                 0   \n",
       "101782  19115635      PDO       Wet road          0                 0   \n",
       "\n",
       "        num_bike_involved  is_wet  is_dark  intersection_id  segment_id  \n",
       "80880                   0       0        1          14636.0         1.0  \n",
       "81604                   0       1        1          14636.0         1.0  \n",
       "101782                  0       1        1          14636.0         1.0  "
      ]
     },
     "execution_count": 332,
     "metadata": {},
     "output_type": "execute_result"
    }
   ],
   "source": [
    "# Check\n",
    "\n",
    "crash_data_pdo.loc[crash_data_pdo.segment_id == 1]"
   ]
  },
  {
   "cell_type": "code",
   "execution_count": 344,
   "id": "46397c93",
   "metadata": {},
   "outputs": [
    {
     "data": {
      "text/html": [
       "<div>\n",
       "<style scoped>\n",
       "    .dataframe tbody tr th:only-of-type {\n",
       "        vertical-align: middle;\n",
       "    }\n",
       "\n",
       "    .dataframe tbody tr th {\n",
       "        vertical-align: top;\n",
       "    }\n",
       "\n",
       "    .dataframe thead th {\n",
       "        text-align: right;\n",
       "    }\n",
       "</style>\n",
       "<table border=\"1\" class=\"dataframe\">\n",
       "  <thead>\n",
       "    <tr style=\"text-align: right;\">\n",
       "      <th></th>\n",
       "      <th>Countermeasure</th>\n",
       "      <th>Condition</th>\n",
       "      <th>Intersection Related</th>\n",
       "      <th>Traffic Control Type</th>\n",
       "      <th>Roadway Type</th>\n",
       "      <th>CMF Type</th>\n",
       "      <th>CMF Value</th>\n",
       "      <th>segment_id</th>\n",
       "    </tr>\n",
       "  </thead>\n",
       "  <tbody>\n",
       "    <tr>\n",
       "      <th>0</th>\n",
       "      <td>converting four-lane roadways to three-lane ro...</td>\n",
       "      <td>Nighttime</td>\n",
       "      <td>no</td>\n",
       "      <td>Non-intersection</td>\n",
       "      <td>Collector</td>\n",
       "      <td>CMF_PDO</td>\n",
       "      <td>0.530</td>\n",
       "      <td>1.0</td>\n",
       "    </tr>\n",
       "    <tr>\n",
       "      <th>1</th>\n",
       "      <td>flatten side slopes</td>\n",
       "      <td>Nighttime</td>\n",
       "      <td>no</td>\n",
       "      <td>Non-intersection</td>\n",
       "      <td>Collector</td>\n",
       "      <td>CMF_PDO</td>\n",
       "      <td>0.580</td>\n",
       "      <td>1.0</td>\n",
       "    </tr>\n",
       "    <tr>\n",
       "      <th>2</th>\n",
       "      <td>implement mobile automated speed enforcement s...</td>\n",
       "      <td>Nighttime</td>\n",
       "      <td>no</td>\n",
       "      <td>Non-intersection</td>\n",
       "      <td>Collector</td>\n",
       "      <td>CMF_PDO</td>\n",
       "      <td>0.910</td>\n",
       "      <td>1.0</td>\n",
       "    </tr>\n",
       "    <tr>\n",
       "      <th>3</th>\n",
       "      <td>improve pavement condition as measured by inte...</td>\n",
       "      <td>Nighttime</td>\n",
       "      <td>no</td>\n",
       "      <td>Non-intersection</td>\n",
       "      <td>Collector</td>\n",
       "      <td>CMF_PDO</td>\n",
       "      <td>0.070</td>\n",
       "      <td>1.0</td>\n",
       "    </tr>\n",
       "    <tr>\n",
       "      <th>4</th>\n",
       "      <td>improve street lighting illuminance and unifor...</td>\n",
       "      <td>Nighttime</td>\n",
       "      <td>no</td>\n",
       "      <td>Non-intersection</td>\n",
       "      <td>Collector</td>\n",
       "      <td>CMF_PDO</td>\n",
       "      <td>0.679</td>\n",
       "      <td>1.0</td>\n",
       "    </tr>\n",
       "    <tr>\n",
       "      <th>...</th>\n",
       "      <td>...</td>\n",
       "      <td>...</td>\n",
       "      <td>...</td>\n",
       "      <td>...</td>\n",
       "      <td>...</td>\n",
       "      <td>...</td>\n",
       "      <td>...</td>\n",
       "      <td>...</td>\n",
       "    </tr>\n",
       "    <tr>\n",
       "      <th>250</th>\n",
       "      <td>upgrade existing markings to wet-reflective pa...</td>\n",
       "      <td>Pedestrian</td>\n",
       "      <td>no</td>\n",
       "      <td>Non-intersection</td>\n",
       "      <td>Collector</td>\n",
       "      <td>CMF_PDO</td>\n",
       "      <td>0.825</td>\n",
       "      <td>1.0</td>\n",
       "    </tr>\n",
       "    <tr>\n",
       "      <th>251</th>\n",
       "      <td>upgrade existing markings to wet-reflective pa...</td>\n",
       "      <td>Rear End</td>\n",
       "      <td>no</td>\n",
       "      <td>Non-intersection</td>\n",
       "      <td>Collector</td>\n",
       "      <td>CMF_PDO</td>\n",
       "      <td>0.825</td>\n",
       "      <td>1.0</td>\n",
       "    </tr>\n",
       "    <tr>\n",
       "      <th>252</th>\n",
       "      <td>upgrade existing markings to wet-reflective pa...</td>\n",
       "      <td>Right Turn Hit Veh.</td>\n",
       "      <td>no</td>\n",
       "      <td>Non-intersection</td>\n",
       "      <td>Collector</td>\n",
       "      <td>CMF_PDO</td>\n",
       "      <td>0.825</td>\n",
       "      <td>1.0</td>\n",
       "    </tr>\n",
       "    <tr>\n",
       "      <th>253</th>\n",
       "      <td>upgrade existing markings to wet-reflective pa...</td>\n",
       "      <td>Side Swiped</td>\n",
       "      <td>no</td>\n",
       "      <td>Non-intersection</td>\n",
       "      <td>Collector</td>\n",
       "      <td>CMF_PDO</td>\n",
       "      <td>0.825</td>\n",
       "      <td>1.0</td>\n",
       "    </tr>\n",
       "    <tr>\n",
       "      <th>254</th>\n",
       "      <td>upgrade existing markings to wet-reflective pa...</td>\n",
       "      <td>Speed related</td>\n",
       "      <td>no</td>\n",
       "      <td>Non-intersection</td>\n",
       "      <td>Collector</td>\n",
       "      <td>CMF_PDO</td>\n",
       "      <td>0.825</td>\n",
       "      <td>1.0</td>\n",
       "    </tr>\n",
       "  </tbody>\n",
       "</table>\n",
       "<p>255 rows × 8 columns</p>\n",
       "</div>"
      ],
      "text/plain": [
       "                                        Countermeasure            Condition  \\\n",
       "0    converting four-lane roadways to three-lane ro...            Nighttime   \n",
       "1                                  flatten side slopes            Nighttime   \n",
       "2    implement mobile automated speed enforcement s...            Nighttime   \n",
       "3    improve pavement condition as measured by inte...            Nighttime   \n",
       "4    improve street lighting illuminance and unifor...            Nighttime   \n",
       "..                                                 ...                  ...   \n",
       "250  upgrade existing markings to wet-reflective pa...           Pedestrian   \n",
       "251  upgrade existing markings to wet-reflective pa...             Rear End   \n",
       "252  upgrade existing markings to wet-reflective pa...  Right Turn Hit Veh.   \n",
       "253  upgrade existing markings to wet-reflective pa...          Side Swiped   \n",
       "254  upgrade existing markings to wet-reflective pa...        Speed related   \n",
       "\n",
       "    Intersection Related Traffic Control Type Roadway Type CMF Type  \\\n",
       "0                     no     Non-intersection    Collector  CMF_PDO   \n",
       "1                     no     Non-intersection    Collector  CMF_PDO   \n",
       "2                     no     Non-intersection    Collector  CMF_PDO   \n",
       "3                     no     Non-intersection    Collector  CMF_PDO   \n",
       "4                     no     Non-intersection    Collector  CMF_PDO   \n",
       "..                   ...                  ...          ...      ...   \n",
       "250                   no     Non-intersection    Collector  CMF_PDO   \n",
       "251                   no     Non-intersection    Collector  CMF_PDO   \n",
       "252                   no     Non-intersection    Collector  CMF_PDO   \n",
       "253                   no     Non-intersection    Collector  CMF_PDO   \n",
       "254                   no     Non-intersection    Collector  CMF_PDO   \n",
       "\n",
       "     CMF Value  segment_id  \n",
       "0        0.530         1.0  \n",
       "1        0.580         1.0  \n",
       "2        0.910         1.0  \n",
       "3        0.070         1.0  \n",
       "4        0.679         1.0  \n",
       "..         ...         ...  \n",
       "250      0.825         1.0  \n",
       "251      0.825         1.0  \n",
       "252      0.825         1.0  \n",
       "253      0.825         1.0  \n",
       "254      0.825         1.0  \n",
       "\n",
       "[255 rows x 8 columns]"
      ]
     },
     "execution_count": 344,
     "metadata": {},
     "output_type": "execute_result"
    }
   ],
   "source": [
    "seg_countermeasures_pdo[0]"
   ]
  },
  {
   "attachments": {
    "image-3.png": {
     "image/png": "[encoded data removed]"
    },
    "image-4.png": {
     "image/png": "[encoded data removed]"
    }
   },
   "cell_type": "markdown",
   "id": "f45d5c16",
   "metadata": {},
   "source": [
    "#### For each location:\n",
    "#####     For each countermeasure:\n",
    "\n",
    "![image-3.png](attachment:image-3.png)\n",
    "\n",
    "![image-4.png](attachment:image-4.png)\n",
    "\n",
    "Assumptions:\n",
    "1. Service life = 5\n",
    "2. Countermeasure's cost = $10,000"
   ]
  },
  {
   "cell_type": "code",
   "execution_count": 465,
   "id": "45aae82a",
   "metadata": {},
   "outputs": [],
   "source": [
    "from functools import reduce\n",
    "\n",
    "def bc_ratio_pdo(seg):\n",
    "    \n",
    "    seg = seg.merge(crash_data_pdo, left_on= ['segment_id', 'Condition'],\\\n",
    "                                     right_on= ['segment_id', 'collision_type'], how = 'inner')\n",
    "    \n",
    "    seg = seg.sort_values(['Countermeasure', 'ccn', 'CMF Value'], ascending= False)\n",
    "    \n",
    "    seg = seg.loc[~ seg.duplicated(subset= ['Countermeasure', 'ccn'], keep= 'last')]\n",
    "    \n",
    "    seg_group = seg.groupby('Countermeasure')\n",
    "    \n",
    "    # Crash costs for PDO crashes = $20,000. This can be updated later based on more recent data.\n",
    "    \n",
    "    benefit = 20000 * (seg_group['CMF Value'].count() - seg_group['CMF Value'].sum())\n",
    "    \n",
    "    # r = discount rate: we use 3% here. This can be changed by the client!\n",
    "    r = 0.03\n",
    "    # t = service life of the countermeasure: we use 5 here. This can be changed later by Jianwei.\n",
    "    t = 5\n",
    "    \n",
    "    # present value benefits\n",
    "    pvb = reduce(lambda pvb, t: pvb + (1/(1+r)**t) * benefit, [0] + [*range(1, 6)])\n",
    "    \n",
    "    # present value costs = initial cost\n",
    "    # Note! the fixed values of $10,000 will be replaced by actual values that will be provided by Jianwei\n",
    "    \n",
    "    pvc = 10000\n",
    "    \n",
    "    bc = pvb/pvc\n",
    "    \n",
    "    return(bc)"
   ]
  },
  {
   "cell_type": "code",
   "execution_count": 466,
   "id": "d9534556",
   "metadata": {},
   "outputs": [],
   "source": [
    "bc_loc_pdo = [bc_ratio_pdo(x) for x in seg_countermeasures_pdo] "
   ]
  },
  {
   "cell_type": "code",
   "execution_count": 469,
   "id": "4e7192e2",
   "metadata": {},
   "outputs": [],
   "source": [
    "def bc_ratio_inj(seg):\n",
    "    \n",
    "    seg = seg.merge(crash_data_injury, left_on= ['segment_id', 'Condition'],\\\n",
    "                                     right_on= ['segment_id', 'collision_type'], how = 'inner')\n",
    "    \n",
    "    seg = seg.sort_values(['Countermeasure', 'ccn', 'CMF Value'], ascending= False)\n",
    "    \n",
    "    seg = seg.loc[~ seg.duplicated(subset= ['Countermeasure', 'ccn'], keep= 'last')]\n",
    "    \n",
    "    seg_group = seg.groupby('Countermeasure')\n",
    "    \n",
    "    # Crash costs for Injury crashes = $500,000. This can be updated later based on more recent data.\n",
    "    \n",
    "    benefit = 500000 * (seg_group['CMF Value'].count() - seg_group['CMF Value'].sum())\n",
    "    \n",
    "    # r = discount rate: we use 3% here. This can be changed by the client!\n",
    "    r = 0.03\n",
    "    # t = service life of the countermeasure: we use 5 here. This can be changed later by Jianwei.\n",
    "    t = 5\n",
    "    \n",
    "    # present value benefits\n",
    "    pvb = reduce(lambda pvb, t: pvb + (1/(1+r)**t) * benefit, [0] + [*range(1, 6)])\n",
    "    \n",
    "    # present value costs = initial cost\n",
    "    # Note! the fixed values of $10,000 will be replaced by actual values that will be provided by Jianwei\n",
    "    \n",
    "    pvc = 10000\n",
    "    \n",
    "    bc = pvb/pvc\n",
    "    \n",
    "    return(bc)"
   ]
  },
  {
   "cell_type": "code",
   "execution_count": 470,
   "id": "01e3802b",
   "metadata": {},
   "outputs": [],
   "source": [
    "bc_loc_inj = [bc_ratio_inj(x) for x in seg_countermeasures_injury] "
   ]
  },
  {
   "cell_type": "code",
   "execution_count": 471,
   "id": "45b372b6",
   "metadata": {},
   "outputs": [],
   "source": [
    "def bc_ratio_fatal(seg):\n",
    "    \n",
    "    seg = seg.merge(crash_data_fatal, left_on= ['segment_id', 'Condition'],\\\n",
    "                                     right_on= ['segment_id', 'collision_type'], how = 'inner')\n",
    "    \n",
    "    seg = seg.sort_values(['Countermeasure', 'ccn', 'CMF Value'], ascending= False)\n",
    "    \n",
    "    seg = seg.loc[~ seg.duplicated(subset= ['Countermeasure', 'ccn'], keep= 'last')]\n",
    "    \n",
    "    seg_group = seg.groupby('Countermeasure')\n",
    "    \n",
    "    # Crash costs for Fatal crashes = $12,000,000. This can be updated later based on more recent data.\n",
    "    \n",
    "    benefit = 12000000 * (seg_group['CMF Value'].count() - seg_group['CMF Value'].sum())\n",
    "    \n",
    "    # r = discount rate: we use 3% here. This can be changed by the client!\n",
    "    r = 0.03\n",
    "    # t = service life of the countermeasure: we use 5 here. This can be chamged later by Jianwei.\n",
    "    t = 5\n",
    "    \n",
    "    # present value benefits\n",
    "    pvb = reduce(lambda pvb, t: pvb + (1/(1+r)**t) * benefit, [0] + [*range(1, 6)])\n",
    "    \n",
    "    # present value costs = initial cost\n",
    "    # Note! the fixed values of $10,000 will be replaced by actual values that will be provided by Jianwei\n",
    "    \n",
    "    pvc = 10000\n",
    "    \n",
    "    bc = pvb/pvc\n",
    "    \n",
    "    return(bc)"
   ]
  },
  {
   "cell_type": "code",
   "execution_count": 472,
   "id": "75f73497",
   "metadata": {},
   "outputs": [],
   "source": [
    "bc_loc_fatal = [bc_ratio_fatal(x) for x in seg_countermeasures_fatal] "
   ]
  },
  {
   "cell_type": "code",
   "execution_count": 513,
   "id": "01729fa9",
   "metadata": {},
   "outputs": [],
   "source": [
    "bc_loc_1 = [bc_loc_pdo[i].add(bc_loc_inj[i], fill_value = 0) for i in range(len(bc_loc_pdo))]"
   ]
  },
  {
   "cell_type": "markdown",
   "id": "4507ff22",
   "metadata": {},
   "source": [
    "#### Total BC ratios for each countermeasure"
   ]
  },
  {
   "cell_type": "code",
   "execution_count": 517,
   "id": "8641cbd0",
   "metadata": {},
   "outputs": [],
   "source": [
    "bc_loc_total = [bc_loc_1[i].add(bc_loc_fatal[i], fill_value= 0) for i in range(len(bc_loc_1))]"
   ]
  },
  {
   "cell_type": "code",
   "execution_count": 519,
   "id": "d2a52b44",
   "metadata": {},
   "outputs": [
    {
     "data": {
      "text/plain": [
       "Countermeasure\n",
       "add 3-inch yellow retroreflective sheeting to signal backplates    2.747824\n",
       "install dynamic signal warning flashers                            3.407302\n",
       "install intersection lighting                                      3.810316\n",
       "modify signal phasing (implement a leading pedestrian interval)    1.831883\n",
       "provide a left-turn lane on both major-road approaches             3.480577\n",
       "provide a left-turn lane on one major-road approach                1.831883\n",
       "provide a right-turn lane on both major-road approaches            1.465506\n",
       "provide a right-turn lane on one major-road approach               0.732753\n",
       "Name: CMF Value, dtype: float64"
      ]
     },
     "execution_count": 519,
     "metadata": {},
     "output_type": "execute_result"
    }
   ],
   "source": [
    "# Check\n",
    "\n",
    "bc_loc_total[1000]"
   ]
  },
  {
   "cell_type": "markdown",
   "id": "731be237",
   "metadata": {},
   "source": [
    "## 2.4"
   ]
  },
  {
   "cell_type": "code",
   "execution_count": 523,
   "id": "50bd5379",
   "metadata": {},
   "outputs": [],
   "source": [
    "best_cm = [x.nlargest(1) for x in bc_loc_total]"
   ]
  },
  {
   "cell_type": "code",
   "execution_count": 525,
   "id": "dca109f8",
   "metadata": {},
   "outputs": [
    {
     "data": {
      "text/plain": [
       "Countermeasure\n",
       "install intersection lighting    3.810316\n",
       "Name: CMF Value, dtype: float64"
      ]
     },
     "execution_count": 525,
     "metadata": {},
     "output_type": "execute_result"
    }
   ],
   "source": [
    "best_cm[1000]"
   ]
  },
  {
   "cell_type": "markdown",
   "id": "e0565b3a",
   "metadata": {},
   "source": [
    "# Notes:\n",
    "\n",
    "1. I used the crash data for 4 years to have a bigger sample size. The actual analysis should be done, using the crash data for a single year.\n",
    "2. Each segment in the 'combined_segment_table' has an intersection_id and a traffic_control_type column. I used those in this analysis. Meaning that the code can hande both roadway segments and intersections.\n",
    "\n",
    "In this analysis, only one countermeasure can be used at a time. The challenges of using more than one countermeasure at the same time are:\n",
    "1. Calculating the total number of crashes affected by implementing multiple countermeasures.\n",
    "2. Calculating a single CMF value for crashes, which are affected by more than one countermeasure."
   ]
  }
 ],
 "metadata": {
  "kernelspec": {
   "display_name": "Python 3 (ipykernel)",
   "language": "python",
   "name": "python3"
  },
  "language_info": {
   "codemirror_mode": {
    "name": "ipython",
    "version": 3
   },
   "file_extension": ".py",
   "mimetype": "text/x-python",
   "name": "python",
   "nbconvert_exporter": "python",
   "pygments_lexer": "ipython3",
   "version": "3.9.7"
  }
 },
 "nbformat": 4,
 "nbformat_minor": 5
}
